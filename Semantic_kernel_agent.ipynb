{
 "cells": [
  {
   "cell_type": "markdown",
   "id": "129eeb48-2944-486e-ad65-3294190e9db7",
   "metadata": {},
   "source": [
    " ### 1. Importing Required Libraries"
   ]
  },
  {
   "cell_type": "code",
   "execution_count": null,
   "id": "6827976b",
   "metadata": {},
   "outputs": [],
   "source": [
    "import os\n",
    "import asyncio\n",
    "from pathlib import Path\n",
    "from dotenv import load_dotenv\n",
    "from azure.identity.aio import DefaultAzureCredential\n",
    "from semantic_kernel.agents import AzureAIAgent, AzureAIAgentSettings, AzureAIAgentThread\n",
    "from semantic_kernel.functions import kernel_function\n",
    "from typing import Annotated\n"
   ]
  },
  {
   "cell_type": "markdown",
   "id": "4565ceb0-94c6-4a4c-9aeb-0ae2aaeeab19",
   "metadata": {},
   "source": [
    "This section loads key libraries:\n",
    "\n",
    "- `os`, `asyncio`, `Path`: For file paths, system tasks, and async code.\n",
    "- `load_dotenv`: Loads environment variables from a `.env` file, helping to keep sensitive credentials (like keys or endpoints) secure and out of your code.\n",
    "- `DefaultAzureCredential`: Authenticates with Azure services.\n",
    "- `semantic_kernel`:  Core modules from the Semantic Kernel SDK that allow interaction with AI agents, threads, and kernel plugin functions.\n",
    "- `Annotated`: Adds descriptions to function parameters.\n"
   ]
  },
  {
   "cell_type": "markdown",
   "id": "2794d6d7-c62a-46f3-9b38-1c6f880ff08f",
   "metadata": {},
   "source": [
    "### 2. Main Function Setup"
   ]
  },
  {
   "cell_type": "code",
   "execution_count": null,
   "id": "0d4e7427-bf9f-4370-910b-610bc5a768b6",
   "metadata": {},
   "outputs": [],
   "source": [
    "async def main():\n",
    "    os.system('cls' if os.name=='nt' else 'clear')\n",
    "\n",
    "    # Load the expenses data file\n",
    "    script_dir = Path(__file__).parent\n",
    "    file_path = script_dir / 'data.txt'\n",
    "    with file_path.open('r') as file:\n",
    "        data = file.read() + \"\\n\"\n",
    "\n",
    "    # Ask for a prompt\n",
    "    user_prompt = input(f\"Here is the expenses data in your file:\\n\\n{data}\\n\\nWhat would you like me to do with the expenses data?\\n\")\n",
    "    \n",
    "    await process_expenses_data(user_prompt, data)"
   ]
  },
  {
   "cell_type": "markdown",
   "id": "83647607-d9d9-46e5-97d0-87a30693261b",
   "metadata": {},
   "source": [
    "This function:\n",
    "\n",
    "- Clears the terminal for clean output.\n",
    "- Loads `data.txt` from the script's folder.\n",
    "- Shows the file content and prompts the user for a command.\n",
    "- Calls `process_expenses_data()` to process the prompt and data asynchronously.\n"
   ]
  },
  {
   "cell_type": "markdown",
   "id": "6d8158da-17ad-4545-b25c-72035672d8bc",
   "metadata": {},
   "source": [
    "### 3. Processing the Expenses Data Using Azure AI Agent"
   ]
  },
  {
   "cell_type": "code",
   "execution_count": null,
   "id": "b337fbab-a79c-446a-98e7-94e5cb15d739",
   "metadata": {},
   "outputs": [],
   "source": [
    "async def process_expenses_data(prompt, expenses_data):\n",
    "    # Load environment variables for secure configuration\n",
    "    load_dotenv()\n",
    "    ai_agent_settings = AzureAIAgentSettings()\n",
    "\n",
    "    # Use async context managers for authentication and client creation\n",
    "    async with (\n",
    "        DefaultAzureCredential(\n",
    "            exclude_environment_credential=True,\n",
    "            exclude_managed_identity_credential=True) as creds,\n",
    "        AzureAIAgent.create_client(\n",
    "            credential=creds\n",
    "        ) as project_client,\n",
    "    ):\n",
    "        # Create an AI agent with specific instructions for expense claims\n",
    "        expenses_agent_def = await project_client.agents.create_agent(\n",
    "            model= ai_agent_settings.model_deployment_name,\n",
    "            name=\"expenses_agent\",\n",
    "            instructions=\"\"\"You are an AI assistant for expense claim submission.\n",
    "                            When a user submits expenses data and requests an expense claim, use the plug-in function to send an email to expenses@contoso.com with the subject 'Expense Claim`and a body that contains itemized expenses with a total.\n",
    "                            Then confirm to the user that you've done so.\"\"\"\n",
    "        )\n",
    "\n",
    "        # Initialize the semantic kernel agent with the EmailPlugin for email simulation\n",
    "        expenses_agent = AzureAIAgent(\n",
    "            client=project_client,\n",
    "            definition=expenses_agent_def,\n",
    "            plugins=[EmailPlugin()]\n",
    "        )\n",
    "\n",
    "        # Create a conversational thread to maintain context for this interaction\n",
    "        thread: AzureAIAgentThread = AzureAIAgentThread(client=project_client)\n",
    "\n",
    "        try:\n",
    "            # Prepare the user prompt and expenses data as messages to send to the agent\n",
    "            prompt_messages = [f\"{prompt}: {expenses_data}\"]\n",
    "            # Await the agent's response asynchronously\n",
    "            response = await expenses_agent.get_response(thread_id=thread.id, messages=prompt_messages)\n",
    "            # Print the agent's response to the terminal\n",
    "            print(f\"\\n# {response.name}:\\n{response}\")\n",
    "        except Exception as e:\n",
    "            # Catch and print any errors that occur during agent interaction\n",
    "            print(e)\n",
    "        finally:\n",
    "            # Clean up: delete the thread and the agent to free resources\n",
    "            await thread.delete() if thread else None\n",
    "            await project_client.agents.delete_agent(expenses_agent.id)"
   ]
  },
  {
   "cell_type": "markdown",
   "id": "95933af2-5ff5-4d8f-ad53-5de1bc239e38",
   "metadata": {},
   "source": [
    "\n",
    "- `load_dotenv()` loads environment variables for credentials and config.  \n",
    "- `AzureAIAgentSettings()` fetches model deployment info.  \n",
    "- `DefaultAzureCredential()` provides secure, automatic Azure authentication without hardcoding secrets.  \n",
    "- `create_client()` initializes the Azure AI Foundry agent client.  \n",
    "- An agent is created with instructions to submit an expense email using a plugin function.  \n",
    "- `AzureAIAgentThread()` creates a conversation thread to keep context.  \n",
    "- The user prompt and data are sent as messages to the agent.  \n",
    "- The agent responds using the `EmailPlugin`, and the response is printed.  \n",
    "- Finally, the thread and agent are deleted to clean up resources and prevent leaks.  \n"
   ]
  },
  {
   "cell_type": "markdown",
   "id": "b48fc1dd-f930-4f75-a8b5-aaa5ad664a15",
   "metadata": {},
   "source": [
    "### 4. Creating the Email Plugin"
   ]
  },
  {
   "cell_type": "code",
   "execution_count": null,
   "id": "f9533b40-dcdf-4bf4-8891-7044de31a007",
   "metadata": {},
   "outputs": [],
   "source": [
    "class EmailPlugin:\n",
    "    # Register this method as a kernel plugin function with a description\n",
    "    @kernel_function(description=\"Sends an email.\")\n",
    "    def send_email(self,\n",
    "                   to: Annotated[str, \"Who to send the email to\"],\n",
    "                   subject: Annotated[str, \"The subject of the email.\"],\n",
    "                   body: Annotated[str, \"The text body of the email.\"]):\n",
    "        # Simulate sending email by printing the details to the console\n",
    "        print(\"\\nTo:\", to)\n",
    "        print(\"Subject:\", subject)\n",
    "        print(body, \"\\n\")\n"
   ]
  },
  {
   "cell_type": "markdown",
   "id": "2bf2d170-4f4c-49c1-b0af-4c945e3c7031",
   "metadata": {},
   "source": [
    "Plugin: \n",
    "A plugin is a modular piece of code that adds specific functionality to the agent, which can be called during its execution.\n",
    "\n",
    "Decorator (@kernel_function): \n",
    "A decorator is a Python feature that modifies or enhances a function’s behavior; here it registers `send_email` as a callable plugin for the Semantic Kernel agent.\n",
    "\n",
    "Annotated:\n",
    "The `Annotated` type adds descriptions to function parameters, helping the AI understand what each argument represents.\n",
    "\n",
    "`send_email` method:\n",
    "This method simulates email sending by printing the email content."
   ]
  },
  {
   "cell_type": "markdown",
   "id": "3289f1ed-755d-4f82-99ab-ee457f7e1088",
   "metadata": {},
   "source": [
    "### 5. Running the Script"
   ]
  },
  {
   "cell_type": "code",
   "execution_count": null,
   "id": "c895fe73-549f-4da3-bb55-6f5d31bd0860",
   "metadata": {},
   "outputs": [],
   "source": [
    "if __name__ == \"__main__\":\n",
    "    asyncio.run(main())"
   ]
  }
 ],
 "metadata": {
  "kernelspec": {
   "display_name": "Python 3 (ipykernel)",
   "language": "python",
   "name": "python3"
  },
  "language_info": {
   "codemirror_mode": {
    "name": "ipython",
    "version": 3
   },
   "file_extension": ".py",
   "mimetype": "text/x-python",
   "name": "python",
   "nbconvert_exporter": "python",
   "pygments_lexer": "ipython3",
   "version": "3.11.7"
  }
 },
 "nbformat": 4,
 "nbformat_minor": 5
}
